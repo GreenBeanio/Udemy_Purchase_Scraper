{
 "cells": [
  {
   "cell_type": "markdown",
   "id": "e1be107c",
   "metadata": {},
   "source": [
    "This would be a Python script you set up on a Cron Job (or something similar), but for now I'm testing in a notebook."
   ]
  },
  {
   "cell_type": "code",
   "execution_count": null,
   "id": "1f72a05a",
   "metadata": {},
   "outputs": [],
   "source": [
    "# I wanted to use requests and beautifulsoup for this, but it still wont work because the site\n",
    "# loads what I'm getting from javascript it seems. So back to Selenium (well undetected_chromedriver)\n",
    "# import requests\n",
    "# from bs4 import BeautifulSoup\n",
    "import undetected_chromedriver as uc\n",
    "from undetected_chromedriver import By\n",
    "import datetime\n",
    "import sqlite3\n",
    "from datetime import timezone\n",
    "import json\n",
    "import os\n",
    "import time\n",
    "# from zoneinfo import ZoneInfo\n",
    "\n",
    "# Parameters\n",
    "cookies_path = \"cookies.json\"\n",
    "\n",
    "options = uc.ChromeOptions()\n",
    "options.add_argument(\"--headless\")\n",
    "driver = uc.Chrome(use_subprocess=False, options=options)"
   ]
  },
  {
   "cell_type": "markdown",
   "id": "9e46c663",
   "metadata": {},
   "source": [
    "You will need to launch this without headless the first time to log in and get the cookies for Udemy (or find another way to export them and save them as a json file to load in)"
   ]
  },
  {
   "cell_type": "code",
   "execution_count": null,
   "id": "cb6f9795",
   "metadata": {},
   "outputs": [],
   "source": [
    "def saveCookies(t_driver: uc.Chrome, f_path: str, force_cookies: bool = True) -> None:\n",
    "    '''\n",
    "    Saves the cookies from your udemy in\n",
    "\n",
    "    :param t_driver: The web driver\n",
    "    :type t_driver: Chrome\n",
    "\n",
    "    :param f_path: The file name (or full file path)\n",
    "    :type f_path: str\n",
    "\n",
    "    :param force_cookies: If we force the cookies even if they already exist, defaults to [True]\n",
    "    :type force_cookies: bool\n",
    "\n",
    "    :return: Nothing\n",
    "    :rtype: None\n",
    "    '''\n",
    "    # Checking if the cookies file already exists\n",
    "    if(force_cookies or not os.path.exists(f_path)):\n",
    "        # Wait for an input for the user to log in\n",
    "        input(\"Continue after you've logged into Udemy!\")\n",
    "        # To save cookies\n",
    "        saved_cookies = t_driver.get_cookies()\n",
    "        with open(f_path, \"w\") as file:\n",
    "            json.dump(saved_cookies, file)\n",
    "    return None\n",
    "def loadCookies(t_driver: uc.Chrome, f_path: str):\n",
    "    '''\n",
    "    Loads your Udemy cookies in\n",
    "\n",
    "    :param t_driver: The web driver\n",
    "    :type t_driver: Chrome\n",
    "\n",
    "    :param f_path: The file name (or full file path)\n",
    "    :type f_path: str\n",
    "\n",
    "    :return: Nothing\n",
    "    :rtype: None\n",
    "    '''\n",
    "    # To load in cookies\n",
    "    with open(f_path, \"r\") as file:\n",
    "        saved_cookies = json.load(file)\n",
    "    for x in saved_cookies:\n",
    "        t_driver.add_cookie(x)\n",
    "    # Wait for one second just to be sure (probably not needed)\n",
    "    time.sleep(1)\n",
    "    return None"
   ]
  },
  {
   "cell_type": "code",
   "execution_count": null,
   "id": "88ffa2e3",
   "metadata": {},
   "outputs": [],
   "source": [
    "con = sqlite3.connect(\"udemy_sales.db\")\n",
    "cur = con.cursor()\n",
    "cur.execute(\"CREATE TABLE IF NOT EXISTS UdemySales(userType TEXT, salePrice REAL, date TEXT, hour INTEGER, dateTimeUTC TEXT);\")\n",
    "con.commit()"
   ]
  },
  {
   "cell_type": "code",
   "execution_count": null,
   "id": "801d0471",
   "metadata": {},
   "outputs": [],
   "source": [
    "for x in range(2):\n",
    "    # Initialize variables in case of failure\n",
    "    sale_price = None\n",
    "    cur_dt = datetime.datetime.now(tz=timezone.utc)\n",
    "    cur_date = cur_dt.strftime(\"%Y-%m-%d\")\n",
    "    cur_hour = cur_dt.hour\n",
    "    cur_dt = cur_dt.strftime(\"%Y-%m-%d %H:%M:%S.%f\")[:-2]\n",
    "    if x == 0:\n",
    "        # Delete any possible cookies\n",
    "        driver.delete_all_cookies()\n",
    "        mode = \"New_User\"\n",
    "    else:\n",
    "        # Load user from cookies\n",
    "        loadCookies(driver, \"cookies.json\")\n",
    "        mode = \"Existing_User\"\n",
    "    try:\n",
    "        # Go to udemy\n",
    "        driver.get(\"https://www.udemy.com/\")\n",
    "        time.sleep(5) # Waiting just to be sure the Javascript loads\n",
    "        sale_bar = driver.find_element(By.XPATH, \"//section[@aria-label='Marketing notification from Udemy']\")\n",
    "        sale_bar = sale_bar.find_element(By.XPATH, \".//span[@data-purpose='smart-bar-subtitle']\").text\n",
    "        # I wanted to use Decimal because it's money, but SQLite doesn't support it so floats it is\n",
    "        #sale_price = Decimal(sale_bar.split(\"$\")[1].split(\" \")[0][:-1])\n",
    "        sale_price = float(sale_bar.split(\"$\")[1].split(\" \")[0][:-1])\n",
    "    except:\n",
    "        pass\n",
    "    cur.execute(\"INSERT INTO UdemySales VALUES(?, ?, ?, ?, ?);\", (mode, sale_price, cur_date, cur_hour, cur_dt))\n",
    "# Close connections\n",
    "con.commit()\n",
    "cur.close()\n",
    "driver.close()\n"
   ]
  }
 ],
 "metadata": {
  "kernelspec": {
   "display_name": "env",
   "language": "python",
   "name": "python3"
  },
  "language_info": {
   "codemirror_mode": {
    "name": "ipython",
    "version": 3
   },
   "file_extension": ".py",
   "mimetype": "text/x-python",
   "name": "python",
   "nbconvert_exporter": "python",
   "pygments_lexer": "ipython3",
   "version": "3.9.13"
  }
 },
 "nbformat": 4,
 "nbformat_minor": 5
}
